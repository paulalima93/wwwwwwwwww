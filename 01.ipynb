{
  "nbformat": 4,
  "nbformat_minor": 0,
  "metadata": {
    "colab": {
      "provenance": [],
      "authorship_tag": "ABX9TyPRr9zLMxyj/h5Cb2aO4n9b",
      "include_colab_link": true
    },
    "kernelspec": {
      "name": "python3",
      "display_name": "Python 3"
    },
    "language_info": {
      "name": "python"
    }
  },
  "cells": [
    {
      "cell_type": "markdown",
      "metadata": {
        "id": "view-in-github",
        "colab_type": "text"
      },
      "source": [
        "<a href=\"https://colab.research.google.com/github/paulalima93/wwwwwwwwww/blob/main/01.ipynb\" target=\"_parent\"><img src=\"https://colab.research.google.com/assets/colab-badge.svg\" alt=\"Open In Colab\"/></a>"
      ]
    },
    {
      "cell_type": "code",
      "source": [],
      "metadata": {
        "id": "DKM-a2stJvQP"
      },
      "execution_count": null,
      "outputs": []
    },
    {
      "cell_type": "code",
      "execution_count": 8,
      "metadata": {
        "colab": {
          "base_uri": "https://localhost:8080/"
        },
        "id": "qiJ4d7YjId97",
        "outputId": "1c552e84-d25c-46dc-e680-d0a4692d2ed1"
      },
      "outputs": [
        {
          "output_type": "stream",
          "name": "stdout",
          "text": [
            "Imprimir alguma coisa 5 Maria\n"
          ]
        }
      ],
      "source": [
        "num1 = 5\n",
        "nome = \"Maria\"\n",
        "print(\"Imprimir alguma coisa\", num1, nome)\n",
        "\n"
      ]
    },
    {
      "cell_type": "code",
      "source": [
        "type(num1)"
      ],
      "metadata": {
        "colab": {
          "base_uri": "https://localhost:8080/"
        },
        "id": "_D8e128VJ1N_",
        "outputId": "18648ee3-50e2-4736-af3c-b0f7fe780ec5"
      },
      "execution_count": 9,
      "outputs": [
        {
          "output_type": "execute_result",
          "data": {
            "text/plain": [
              "int"
            ]
          },
          "metadata": {},
          "execution_count": 9
        }
      ]
    },
    {
      "cell_type": "code",
      "source": [
        "type(nome)"
      ],
      "metadata": {
        "colab": {
          "base_uri": "https://localhost:8080/"
        },
        "id": "fzOVH3QbJzxH",
        "outputId": "a0a145c2-8c98-43e4-8b62-12d179964a23"
      },
      "execution_count": 10,
      "outputs": [
        {
          "output_type": "execute_result",
          "data": {
            "text/plain": [
              "str"
            ]
          },
          "metadata": {},
          "execution_count": 10
        }
      ]
    },
    {
      "cell_type": "code",
      "source": [
        "#celcius = 36\n",
        "def converter(celcius):\n",
        "  fahrenheit = (celcius * (9/5))+32\n",
        "  return fahrenheit\n",
        "\n",
        "  "
      ],
      "metadata": {
        "id": "yzFroOReMiuX"
      },
      "execution_count": 16,
      "outputs": []
    },
    {
      "cell_type": "code",
      "source": [
        "converter(10)"
      ],
      "metadata": {
        "colab": {
          "base_uri": "https://localhost:8080/"
        },
        "id": "KjCGuqNcNPDo",
        "outputId": "1be18675-c8e3-4065-c75b-57f108c5fdd0"
      },
      "execution_count": 22,
      "outputs": [
        {
          "output_type": "execute_result",
          "data": {
            "text/plain": [
              "50.0"
            ]
          },
          "metadata": {},
          "execution_count": 22
        }
      ]
    },
    {
      "cell_type": "code",
      "source": [
        "cel = input()\n"
      ],
      "metadata": {
        "colab": {
          "base_uri": "https://localhost:8080/"
        },
        "id": "gl3X8hAENln3",
        "outputId": "5453d98a-e7ed-4509-8b04-77ee4f2f3483"
      },
      "execution_count": 24,
      "outputs": [
        {
          "name": "stdout",
          "output_type": "stream",
          "text": [
            "20\n"
          ]
        }
      ]
    },
    {
      "cell_type": "code",
      "source": [
        "converter(int(cel))"
      ],
      "metadata": {
        "colab": {
          "base_uri": "https://localhost:8080/"
        },
        "outputId": "09e32b30-54fb-49bf-d60c-aadf5b1c7b5e",
        "id": "b7CUa-hBN81w"
      },
      "execution_count": 25,
      "outputs": [
        {
          "output_type": "execute_result",
          "data": {
            "text/plain": [
              "68.0"
            ]
          },
          "metadata": {},
          "execution_count": 25
        }
      ]
    },
    {
      "cell_type": "code",
      "source": [
        "def add (x, y):\n",
        "  return x + y\n",
        "\n",
        "def subtract( x, y):\n",
        "  return x - y\n",
        "\n",
        "def calculate(option):\n",
        "  if(option == '1' or option== '2'):\n",
        "    num1 = float(input(\"Digite o primeiro numero:\"))\n",
        "    num2 = float(input(\"Digite o segundo numero:\"))\n",
        "\n",
        "    if option == '1':\n",
        "      print(\"Soma\", num1, '+', num2, '=', add(num1, num2))\n",
        "    elif option == '2':\n",
        "      print(\"Diferença\", num1, '-', num2, '=', subtract(num1, num2))\n",
        "    else:\n",
        "      print(\"Entrada inválida\")\n",
        "\n",
        "\n",
        "print(\"Selecione a opção 1 para adicionar ou 2 para subtrair\")\n",
        "\n",
        "option = input( \"Digite o numero da opção\")\n",
        "calculate(option)"
      ],
      "metadata": {
        "colab": {
          "base_uri": "https://localhost:8080/"
        },
        "id": "bKdZ0qo3On5v",
        "outputId": "ed00a377-f8e1-4cdb-e24b-dfad5a36af9d"
      },
      "execution_count": 26,
      "outputs": [
        {
          "output_type": "stream",
          "name": "stdout",
          "text": [
            "Selecione a opção 1 para adicionar ou 2 para subtrair\n",
            "Digite o numero da opção2\n",
            "Digite o primeiro numero:25\n",
            "Digite o segundo numero:10\n",
            "Diferença 25.0 - 10.0 = 15.0\n"
          ]
        }
      ]
    }
  ]
}